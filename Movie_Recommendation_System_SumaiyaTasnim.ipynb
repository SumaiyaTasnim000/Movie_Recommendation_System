{
  "nbformat": 4,
  "nbformat_minor": 0,
  "metadata": {
    "colab": {
      "provenance": []
    },
    "kernelspec": {
      "name": "python3",
      "display_name": "Python 3"
    },
    "language_info": {
      "name": "python"
    }
  },
  "cells": [
    {
      "cell_type": "markdown",
      "source": [
        "## **Libraries & Dependencies**"
      ],
      "metadata": {
        "id": "zXqFbYz6eSmN"
      }
    },
    {
      "cell_type": "code",
      "source": [
        "!pip install kagglehub"
      ],
      "metadata": {
        "collapsed": true,
        "id": "BP9p9Rd6g1cI",
        "colab": {
          "base_uri": "https://localhost:8080/"
        },
        "outputId": "3ffdc89a-431f-455e-fcec-76fc59a359b6"
      },
      "execution_count": 2,
      "outputs": [
        {
          "output_type": "stream",
          "name": "stdout",
          "text": [
            "Requirement already satisfied: kagglehub in /usr/local/lib/python3.12/dist-packages (0.3.13)\n",
            "Requirement already satisfied: packaging in /usr/local/lib/python3.12/dist-packages (from kagglehub) (25.0)\n",
            "Requirement already satisfied: pyyaml in /usr/local/lib/python3.12/dist-packages (from kagglehub) (6.0.3)\n",
            "Requirement already satisfied: requests in /usr/local/lib/python3.12/dist-packages (from kagglehub) (2.32.4)\n",
            "Requirement already satisfied: tqdm in /usr/local/lib/python3.12/dist-packages (from kagglehub) (4.67.1)\n",
            "Requirement already satisfied: charset_normalizer<4,>=2 in /usr/local/lib/python3.12/dist-packages (from requests->kagglehub) (3.4.3)\n",
            "Requirement already satisfied: idna<4,>=2.5 in /usr/local/lib/python3.12/dist-packages (from requests->kagglehub) (3.10)\n",
            "Requirement already satisfied: urllib3<3,>=1.21.1 in /usr/local/lib/python3.12/dist-packages (from requests->kagglehub) (2.5.0)\n",
            "Requirement already satisfied: certifi>=2017.4.17 in /usr/local/lib/python3.12/dist-packages (from requests->kagglehub) (2025.8.3)\n"
          ]
        }
      ]
    },
    {
      "cell_type": "code",
      "source": [
        "import kagglehub\n",
        "import pandas as pd\n",
        "import numpy as np\n",
        "from scipy.sparse import coo_matrix"
      ],
      "metadata": {
        "id": "hFZy9KceikmL"
      },
      "execution_count": 3,
      "outputs": []
    },
    {
      "cell_type": "code",
      "source": [
        "#Load dataset from kaggle-\n",
        "path = kagglehub.dataset_download(\"grouplens/movielens-20m-dataset\")\n",
        "print(\"Path to dataset files:\", path)"
      ],
      "metadata": {
        "id": "kMg9Tgdbi37m",
        "colab": {
          "base_uri": "https://localhost:8080/"
        },
        "outputId": "403ab1f3-dc61-4b93-8950-4c4ca403804e"
      },
      "execution_count": 4,
      "outputs": [
        {
          "output_type": "stream",
          "name": "stdout",
          "text": [
            "Using Colab cache for faster access to the 'movielens-20m-dataset' dataset.\n",
            "Path to dataset files: /kaggle/input/movielens-20m-dataset\n"
          ]
        }
      ]
    },
    {
      "cell_type": "code",
      "source": [
        "# Load ratings and movies\n",
        "ratings = pd.read_csv(path + \"/rating.csv\")\n",
        "movies = pd.read_csv(path + \"/movie.csv\")\n",
        "\n",
        "print(\"Raw Ratings shape: (r,c)\", ratings.shape)\n",
        "print(\"Movies shape: (r,c)\", movies.shape)\n",
        "\n",
        "movies.head()\n"
      ],
      "metadata": {
        "id": "O8A5VwBvi6cG",
        "colab": {
          "base_uri": "https://localhost:8080/",
          "height": 293
        },
        "outputId": "570fcf4c-00e1-4fce-9611-8a579ddd28d0"
      },
      "execution_count": 5,
      "outputs": [
        {
          "output_type": "stream",
          "name": "stdout",
          "text": [
            "Raw Ratings shape: (r,c) (20000263, 4)\n",
            "Movies shape: (r,c) (27278, 3)\n"
          ]
        },
        {
          "output_type": "execute_result",
          "data": {
            "text/plain": [
              "   movieId                               title  \\\n",
              "0        1                    Toy Story (1995)   \n",
              "1        2                      Jumanji (1995)   \n",
              "2        3             Grumpier Old Men (1995)   \n",
              "3        4            Waiting to Exhale (1995)   \n",
              "4        5  Father of the Bride Part II (1995)   \n",
              "\n",
              "                                        genres  \n",
              "0  Adventure|Animation|Children|Comedy|Fantasy  \n",
              "1                   Adventure|Children|Fantasy  \n",
              "2                               Comedy|Romance  \n",
              "3                         Comedy|Drama|Romance  \n",
              "4                                       Comedy  "
            ],
            "text/html": [
              "\n",
              "  <div id=\"df-f30cdd76-4be7-4517-a833-0bd09d0bfa05\" class=\"colab-df-container\">\n",
              "    <div>\n",
              "<style scoped>\n",
              "    .dataframe tbody tr th:only-of-type {\n",
              "        vertical-align: middle;\n",
              "    }\n",
              "\n",
              "    .dataframe tbody tr th {\n",
              "        vertical-align: top;\n",
              "    }\n",
              "\n",
              "    .dataframe thead th {\n",
              "        text-align: right;\n",
              "    }\n",
              "</style>\n",
              "<table border=\"1\" class=\"dataframe\">\n",
              "  <thead>\n",
              "    <tr style=\"text-align: right;\">\n",
              "      <th></th>\n",
              "      <th>movieId</th>\n",
              "      <th>title</th>\n",
              "      <th>genres</th>\n",
              "    </tr>\n",
              "  </thead>\n",
              "  <tbody>\n",
              "    <tr>\n",
              "      <th>0</th>\n",
              "      <td>1</td>\n",
              "      <td>Toy Story (1995)</td>\n",
              "      <td>Adventure|Animation|Children|Comedy|Fantasy</td>\n",
              "    </tr>\n",
              "    <tr>\n",
              "      <th>1</th>\n",
              "      <td>2</td>\n",
              "      <td>Jumanji (1995)</td>\n",
              "      <td>Adventure|Children|Fantasy</td>\n",
              "    </tr>\n",
              "    <tr>\n",
              "      <th>2</th>\n",
              "      <td>3</td>\n",
              "      <td>Grumpier Old Men (1995)</td>\n",
              "      <td>Comedy|Romance</td>\n",
              "    </tr>\n",
              "    <tr>\n",
              "      <th>3</th>\n",
              "      <td>4</td>\n",
              "      <td>Waiting to Exhale (1995)</td>\n",
              "      <td>Comedy|Drama|Romance</td>\n",
              "    </tr>\n",
              "    <tr>\n",
              "      <th>4</th>\n",
              "      <td>5</td>\n",
              "      <td>Father of the Bride Part II (1995)</td>\n",
              "      <td>Comedy</td>\n",
              "    </tr>\n",
              "  </tbody>\n",
              "</table>\n",
              "</div>\n",
              "    <div class=\"colab-df-buttons\">\n",
              "\n",
              "  <div class=\"colab-df-container\">\n",
              "    <button class=\"colab-df-convert\" onclick=\"convertToInteractive('df-f30cdd76-4be7-4517-a833-0bd09d0bfa05')\"\n",
              "            title=\"Convert this dataframe to an interactive table.\"\n",
              "            style=\"display:none;\">\n",
              "\n",
              "  <svg xmlns=\"http://www.w3.org/2000/svg\" height=\"24px\" viewBox=\"0 -960 960 960\">\n",
              "    <path d=\"M120-120v-720h720v720H120Zm60-500h600v-160H180v160Zm220 220h160v-160H400v160Zm0 220h160v-160H400v160ZM180-400h160v-160H180v160Zm440 0h160v-160H620v160ZM180-180h160v-160H180v160Zm440 0h160v-160H620v160Z\"/>\n",
              "  </svg>\n",
              "    </button>\n",
              "\n",
              "  <style>\n",
              "    .colab-df-container {\n",
              "      display:flex;\n",
              "      gap: 12px;\n",
              "    }\n",
              "\n",
              "    .colab-df-convert {\n",
              "      background-color: #E8F0FE;\n",
              "      border: none;\n",
              "      border-radius: 50%;\n",
              "      cursor: pointer;\n",
              "      display: none;\n",
              "      fill: #1967D2;\n",
              "      height: 32px;\n",
              "      padding: 0 0 0 0;\n",
              "      width: 32px;\n",
              "    }\n",
              "\n",
              "    .colab-df-convert:hover {\n",
              "      background-color: #E2EBFA;\n",
              "      box-shadow: 0px 1px 2px rgba(60, 64, 67, 0.3), 0px 1px 3px 1px rgba(60, 64, 67, 0.15);\n",
              "      fill: #174EA6;\n",
              "    }\n",
              "\n",
              "    .colab-df-buttons div {\n",
              "      margin-bottom: 4px;\n",
              "    }\n",
              "\n",
              "    [theme=dark] .colab-df-convert {\n",
              "      background-color: #3B4455;\n",
              "      fill: #D2E3FC;\n",
              "    }\n",
              "\n",
              "    [theme=dark] .colab-df-convert:hover {\n",
              "      background-color: #434B5C;\n",
              "      box-shadow: 0px 1px 3px 1px rgba(0, 0, 0, 0.15);\n",
              "      filter: drop-shadow(0px 1px 2px rgba(0, 0, 0, 0.3));\n",
              "      fill: #FFFFFF;\n",
              "    }\n",
              "  </style>\n",
              "\n",
              "    <script>\n",
              "      const buttonEl =\n",
              "        document.querySelector('#df-f30cdd76-4be7-4517-a833-0bd09d0bfa05 button.colab-df-convert');\n",
              "      buttonEl.style.display =\n",
              "        google.colab.kernel.accessAllowed ? 'block' : 'none';\n",
              "\n",
              "      async function convertToInteractive(key) {\n",
              "        const element = document.querySelector('#df-f30cdd76-4be7-4517-a833-0bd09d0bfa05');\n",
              "        const dataTable =\n",
              "          await google.colab.kernel.invokeFunction('convertToInteractive',\n",
              "                                                    [key], {});\n",
              "        if (!dataTable) return;\n",
              "\n",
              "        const docLinkHtml = 'Like what you see? Visit the ' +\n",
              "          '<a target=\"_blank\" href=https://colab.research.google.com/notebooks/data_table.ipynb>data table notebook</a>'\n",
              "          + ' to learn more about interactive tables.';\n",
              "        element.innerHTML = '';\n",
              "        dataTable['output_type'] = 'display_data';\n",
              "        await google.colab.output.renderOutput(dataTable, element);\n",
              "        const docLink = document.createElement('div');\n",
              "        docLink.innerHTML = docLinkHtml;\n",
              "        element.appendChild(docLink);\n",
              "      }\n",
              "    </script>\n",
              "  </div>\n",
              "\n",
              "\n",
              "    <div id=\"df-5d45812d-1205-484b-a3ed-9f6b17a42c44\">\n",
              "      <button class=\"colab-df-quickchart\" onclick=\"quickchart('df-5d45812d-1205-484b-a3ed-9f6b17a42c44')\"\n",
              "                title=\"Suggest charts\"\n",
              "                style=\"display:none;\">\n",
              "\n",
              "<svg xmlns=\"http://www.w3.org/2000/svg\" height=\"24px\"viewBox=\"0 0 24 24\"\n",
              "     width=\"24px\">\n",
              "    <g>\n",
              "        <path d=\"M19 3H5c-1.1 0-2 .9-2 2v14c0 1.1.9 2 2 2h14c1.1 0 2-.9 2-2V5c0-1.1-.9-2-2-2zM9 17H7v-7h2v7zm4 0h-2V7h2v10zm4 0h-2v-4h2v4z\"/>\n",
              "    </g>\n",
              "</svg>\n",
              "      </button>\n",
              "\n",
              "<style>\n",
              "  .colab-df-quickchart {\n",
              "      --bg-color: #E8F0FE;\n",
              "      --fill-color: #1967D2;\n",
              "      --hover-bg-color: #E2EBFA;\n",
              "      --hover-fill-color: #174EA6;\n",
              "      --disabled-fill-color: #AAA;\n",
              "      --disabled-bg-color: #DDD;\n",
              "  }\n",
              "\n",
              "  [theme=dark] .colab-df-quickchart {\n",
              "      --bg-color: #3B4455;\n",
              "      --fill-color: #D2E3FC;\n",
              "      --hover-bg-color: #434B5C;\n",
              "      --hover-fill-color: #FFFFFF;\n",
              "      --disabled-bg-color: #3B4455;\n",
              "      --disabled-fill-color: #666;\n",
              "  }\n",
              "\n",
              "  .colab-df-quickchart {\n",
              "    background-color: var(--bg-color);\n",
              "    border: none;\n",
              "    border-radius: 50%;\n",
              "    cursor: pointer;\n",
              "    display: none;\n",
              "    fill: var(--fill-color);\n",
              "    height: 32px;\n",
              "    padding: 0;\n",
              "    width: 32px;\n",
              "  }\n",
              "\n",
              "  .colab-df-quickchart:hover {\n",
              "    background-color: var(--hover-bg-color);\n",
              "    box-shadow: 0 1px 2px rgba(60, 64, 67, 0.3), 0 1px 3px 1px rgba(60, 64, 67, 0.15);\n",
              "    fill: var(--button-hover-fill-color);\n",
              "  }\n",
              "\n",
              "  .colab-df-quickchart-complete:disabled,\n",
              "  .colab-df-quickchart-complete:disabled:hover {\n",
              "    background-color: var(--disabled-bg-color);\n",
              "    fill: var(--disabled-fill-color);\n",
              "    box-shadow: none;\n",
              "  }\n",
              "\n",
              "  .colab-df-spinner {\n",
              "    border: 2px solid var(--fill-color);\n",
              "    border-color: transparent;\n",
              "    border-bottom-color: var(--fill-color);\n",
              "    animation:\n",
              "      spin 1s steps(1) infinite;\n",
              "  }\n",
              "\n",
              "  @keyframes spin {\n",
              "    0% {\n",
              "      border-color: transparent;\n",
              "      border-bottom-color: var(--fill-color);\n",
              "      border-left-color: var(--fill-color);\n",
              "    }\n",
              "    20% {\n",
              "      border-color: transparent;\n",
              "      border-left-color: var(--fill-color);\n",
              "      border-top-color: var(--fill-color);\n",
              "    }\n",
              "    30% {\n",
              "      border-color: transparent;\n",
              "      border-left-color: var(--fill-color);\n",
              "      border-top-color: var(--fill-color);\n",
              "      border-right-color: var(--fill-color);\n",
              "    }\n",
              "    40% {\n",
              "      border-color: transparent;\n",
              "      border-right-color: var(--fill-color);\n",
              "      border-top-color: var(--fill-color);\n",
              "    }\n",
              "    60% {\n",
              "      border-color: transparent;\n",
              "      border-right-color: var(--fill-color);\n",
              "    }\n",
              "    80% {\n",
              "      border-color: transparent;\n",
              "      border-right-color: var(--fill-color);\n",
              "      border-bottom-color: var(--fill-color);\n",
              "    }\n",
              "    90% {\n",
              "      border-color: transparent;\n",
              "      border-bottom-color: var(--fill-color);\n",
              "    }\n",
              "  }\n",
              "</style>\n",
              "\n",
              "      <script>\n",
              "        async function quickchart(key) {\n",
              "          const quickchartButtonEl =\n",
              "            document.querySelector('#' + key + ' button');\n",
              "          quickchartButtonEl.disabled = true;  // To prevent multiple clicks.\n",
              "          quickchartButtonEl.classList.add('colab-df-spinner');\n",
              "          try {\n",
              "            const charts = await google.colab.kernel.invokeFunction(\n",
              "                'suggestCharts', [key], {});\n",
              "          } catch (error) {\n",
              "            console.error('Error during call to suggestCharts:', error);\n",
              "          }\n",
              "          quickchartButtonEl.classList.remove('colab-df-spinner');\n",
              "          quickchartButtonEl.classList.add('colab-df-quickchart-complete');\n",
              "        }\n",
              "        (() => {\n",
              "          let quickchartButtonEl =\n",
              "            document.querySelector('#df-5d45812d-1205-484b-a3ed-9f6b17a42c44 button');\n",
              "          quickchartButtonEl.style.display =\n",
              "            google.colab.kernel.accessAllowed ? 'block' : 'none';\n",
              "        })();\n",
              "      </script>\n",
              "    </div>\n",
              "\n",
              "    </div>\n",
              "  </div>\n"
            ],
            "application/vnd.google.colaboratory.intrinsic+json": {
              "type": "dataframe",
              "variable_name": "movies",
              "summary": "{\n  \"name\": \"movies\",\n  \"rows\": 27278,\n  \"fields\": [\n    {\n      \"column\": \"movieId\",\n      \"properties\": {\n        \"dtype\": \"number\",\n        \"std\": 44429,\n        \"min\": 1,\n        \"max\": 131262,\n        \"num_unique_values\": 27278,\n        \"samples\": [\n          61116,\n          70697,\n          111931\n        ],\n        \"semantic_type\": \"\",\n        \"description\": \"\"\n      }\n    },\n    {\n      \"column\": \"title\",\n      \"properties\": {\n        \"dtype\": \"string\",\n        \"num_unique_values\": 27262,\n        \"samples\": [\n          \"Look (2007)\",\n          \"Return of the Living Dead: Rave to the Grave (2005)\",\n          \"Quare Fellow, The (a.k.a. The Condemned Man) (1962)\"\n        ],\n        \"semantic_type\": \"\",\n        \"description\": \"\"\n      }\n    },\n    {\n      \"column\": \"genres\",\n      \"properties\": {\n        \"dtype\": \"category\",\n        \"num_unique_values\": 1342,\n        \"samples\": [\n          \"Comedy|Horror|Romance|Sci-Fi\",\n          \"Action|Adventure|Animation|Fantasy|Sci-Fi\",\n          \"Thriller|War\"\n        ],\n        \"semantic_type\": \"\",\n        \"description\": \"\"\n      }\n    }\n  ]\n}"
            }
          },
          "metadata": {},
          "execution_count": 5
        }
      ]
    },
    {
      "cell_type": "code",
      "source": [
        "ratings.head()"
      ],
      "metadata": {
        "id": "RkPSY66R4jRM",
        "colab": {
          "base_uri": "https://localhost:8080/",
          "height": 206
        },
        "outputId": "89bd5a7f-7dfe-42af-d8dd-9355fc71e809"
      },
      "execution_count": 6,
      "outputs": [
        {
          "output_type": "execute_result",
          "data": {
            "text/plain": [
              "   userId  movieId  rating            timestamp\n",
              "0       1        2     3.5  2005-04-02 23:53:47\n",
              "1       1       29     3.5  2005-04-02 23:31:16\n",
              "2       1       32     3.5  2005-04-02 23:33:39\n",
              "3       1       47     3.5  2005-04-02 23:32:07\n",
              "4       1       50     3.5  2005-04-02 23:29:40"
            ],
            "text/html": [
              "\n",
              "  <div id=\"df-f3190590-7937-4385-b7fc-521212edd951\" class=\"colab-df-container\">\n",
              "    <div>\n",
              "<style scoped>\n",
              "    .dataframe tbody tr th:only-of-type {\n",
              "        vertical-align: middle;\n",
              "    }\n",
              "\n",
              "    .dataframe tbody tr th {\n",
              "        vertical-align: top;\n",
              "    }\n",
              "\n",
              "    .dataframe thead th {\n",
              "        text-align: right;\n",
              "    }\n",
              "</style>\n",
              "<table border=\"1\" class=\"dataframe\">\n",
              "  <thead>\n",
              "    <tr style=\"text-align: right;\">\n",
              "      <th></th>\n",
              "      <th>userId</th>\n",
              "      <th>movieId</th>\n",
              "      <th>rating</th>\n",
              "      <th>timestamp</th>\n",
              "    </tr>\n",
              "  </thead>\n",
              "  <tbody>\n",
              "    <tr>\n",
              "      <th>0</th>\n",
              "      <td>1</td>\n",
              "      <td>2</td>\n",
              "      <td>3.5</td>\n",
              "      <td>2005-04-02 23:53:47</td>\n",
              "    </tr>\n",
              "    <tr>\n",
              "      <th>1</th>\n",
              "      <td>1</td>\n",
              "      <td>29</td>\n",
              "      <td>3.5</td>\n",
              "      <td>2005-04-02 23:31:16</td>\n",
              "    </tr>\n",
              "    <tr>\n",
              "      <th>2</th>\n",
              "      <td>1</td>\n",
              "      <td>32</td>\n",
              "      <td>3.5</td>\n",
              "      <td>2005-04-02 23:33:39</td>\n",
              "    </tr>\n",
              "    <tr>\n",
              "      <th>3</th>\n",
              "      <td>1</td>\n",
              "      <td>47</td>\n",
              "      <td>3.5</td>\n",
              "      <td>2005-04-02 23:32:07</td>\n",
              "    </tr>\n",
              "    <tr>\n",
              "      <th>4</th>\n",
              "      <td>1</td>\n",
              "      <td>50</td>\n",
              "      <td>3.5</td>\n",
              "      <td>2005-04-02 23:29:40</td>\n",
              "    </tr>\n",
              "  </tbody>\n",
              "</table>\n",
              "</div>\n",
              "    <div class=\"colab-df-buttons\">\n",
              "\n",
              "  <div class=\"colab-df-container\">\n",
              "    <button class=\"colab-df-convert\" onclick=\"convertToInteractive('df-f3190590-7937-4385-b7fc-521212edd951')\"\n",
              "            title=\"Convert this dataframe to an interactive table.\"\n",
              "            style=\"display:none;\">\n",
              "\n",
              "  <svg xmlns=\"http://www.w3.org/2000/svg\" height=\"24px\" viewBox=\"0 -960 960 960\">\n",
              "    <path d=\"M120-120v-720h720v720H120Zm60-500h600v-160H180v160Zm220 220h160v-160H400v160Zm0 220h160v-160H400v160ZM180-400h160v-160H180v160Zm440 0h160v-160H620v160ZM180-180h160v-160H180v160Zm440 0h160v-160H620v160Z\"/>\n",
              "  </svg>\n",
              "    </button>\n",
              "\n",
              "  <style>\n",
              "    .colab-df-container {\n",
              "      display:flex;\n",
              "      gap: 12px;\n",
              "    }\n",
              "\n",
              "    .colab-df-convert {\n",
              "      background-color: #E8F0FE;\n",
              "      border: none;\n",
              "      border-radius: 50%;\n",
              "      cursor: pointer;\n",
              "      display: none;\n",
              "      fill: #1967D2;\n",
              "      height: 32px;\n",
              "      padding: 0 0 0 0;\n",
              "      width: 32px;\n",
              "    }\n",
              "\n",
              "    .colab-df-convert:hover {\n",
              "      background-color: #E2EBFA;\n",
              "      box-shadow: 0px 1px 2px rgba(60, 64, 67, 0.3), 0px 1px 3px 1px rgba(60, 64, 67, 0.15);\n",
              "      fill: #174EA6;\n",
              "    }\n",
              "\n",
              "    .colab-df-buttons div {\n",
              "      margin-bottom: 4px;\n",
              "    }\n",
              "\n",
              "    [theme=dark] .colab-df-convert {\n",
              "      background-color: #3B4455;\n",
              "      fill: #D2E3FC;\n",
              "    }\n",
              "\n",
              "    [theme=dark] .colab-df-convert:hover {\n",
              "      background-color: #434B5C;\n",
              "      box-shadow: 0px 1px 3px 1px rgba(0, 0, 0, 0.15);\n",
              "      filter: drop-shadow(0px 1px 2px rgba(0, 0, 0, 0.3));\n",
              "      fill: #FFFFFF;\n",
              "    }\n",
              "  </style>\n",
              "\n",
              "    <script>\n",
              "      const buttonEl =\n",
              "        document.querySelector('#df-f3190590-7937-4385-b7fc-521212edd951 button.colab-df-convert');\n",
              "      buttonEl.style.display =\n",
              "        google.colab.kernel.accessAllowed ? 'block' : 'none';\n",
              "\n",
              "      async function convertToInteractive(key) {\n",
              "        const element = document.querySelector('#df-f3190590-7937-4385-b7fc-521212edd951');\n",
              "        const dataTable =\n",
              "          await google.colab.kernel.invokeFunction('convertToInteractive',\n",
              "                                                    [key], {});\n",
              "        if (!dataTable) return;\n",
              "\n",
              "        const docLinkHtml = 'Like what you see? Visit the ' +\n",
              "          '<a target=\"_blank\" href=https://colab.research.google.com/notebooks/data_table.ipynb>data table notebook</a>'\n",
              "          + ' to learn more about interactive tables.';\n",
              "        element.innerHTML = '';\n",
              "        dataTable['output_type'] = 'display_data';\n",
              "        await google.colab.output.renderOutput(dataTable, element);\n",
              "        const docLink = document.createElement('div');\n",
              "        docLink.innerHTML = docLinkHtml;\n",
              "        element.appendChild(docLink);\n",
              "      }\n",
              "    </script>\n",
              "  </div>\n",
              "\n",
              "\n",
              "    <div id=\"df-1425a8b9-e5ff-455b-811b-a6a1aa9e89e0\">\n",
              "      <button class=\"colab-df-quickchart\" onclick=\"quickchart('df-1425a8b9-e5ff-455b-811b-a6a1aa9e89e0')\"\n",
              "                title=\"Suggest charts\"\n",
              "                style=\"display:none;\">\n",
              "\n",
              "<svg xmlns=\"http://www.w3.org/2000/svg\" height=\"24px\"viewBox=\"0 0 24 24\"\n",
              "     width=\"24px\">\n",
              "    <g>\n",
              "        <path d=\"M19 3H5c-1.1 0-2 .9-2 2v14c0 1.1.9 2 2 2h14c1.1 0 2-.9 2-2V5c0-1.1-.9-2-2-2zM9 17H7v-7h2v7zm4 0h-2V7h2v10zm4 0h-2v-4h2v4z\"/>\n",
              "    </g>\n",
              "</svg>\n",
              "      </button>\n",
              "\n",
              "<style>\n",
              "  .colab-df-quickchart {\n",
              "      --bg-color: #E8F0FE;\n",
              "      --fill-color: #1967D2;\n",
              "      --hover-bg-color: #E2EBFA;\n",
              "      --hover-fill-color: #174EA6;\n",
              "      --disabled-fill-color: #AAA;\n",
              "      --disabled-bg-color: #DDD;\n",
              "  }\n",
              "\n",
              "  [theme=dark] .colab-df-quickchart {\n",
              "      --bg-color: #3B4455;\n",
              "      --fill-color: #D2E3FC;\n",
              "      --hover-bg-color: #434B5C;\n",
              "      --hover-fill-color: #FFFFFF;\n",
              "      --disabled-bg-color: #3B4455;\n",
              "      --disabled-fill-color: #666;\n",
              "  }\n",
              "\n",
              "  .colab-df-quickchart {\n",
              "    background-color: var(--bg-color);\n",
              "    border: none;\n",
              "    border-radius: 50%;\n",
              "    cursor: pointer;\n",
              "    display: none;\n",
              "    fill: var(--fill-color);\n",
              "    height: 32px;\n",
              "    padding: 0;\n",
              "    width: 32px;\n",
              "  }\n",
              "\n",
              "  .colab-df-quickchart:hover {\n",
              "    background-color: var(--hover-bg-color);\n",
              "    box-shadow: 0 1px 2px rgba(60, 64, 67, 0.3), 0 1px 3px 1px rgba(60, 64, 67, 0.15);\n",
              "    fill: var(--button-hover-fill-color);\n",
              "  }\n",
              "\n",
              "  .colab-df-quickchart-complete:disabled,\n",
              "  .colab-df-quickchart-complete:disabled:hover {\n",
              "    background-color: var(--disabled-bg-color);\n",
              "    fill: var(--disabled-fill-color);\n",
              "    box-shadow: none;\n",
              "  }\n",
              "\n",
              "  .colab-df-spinner {\n",
              "    border: 2px solid var(--fill-color);\n",
              "    border-color: transparent;\n",
              "    border-bottom-color: var(--fill-color);\n",
              "    animation:\n",
              "      spin 1s steps(1) infinite;\n",
              "  }\n",
              "\n",
              "  @keyframes spin {\n",
              "    0% {\n",
              "      border-color: transparent;\n",
              "      border-bottom-color: var(--fill-color);\n",
              "      border-left-color: var(--fill-color);\n",
              "    }\n",
              "    20% {\n",
              "      border-color: transparent;\n",
              "      border-left-color: var(--fill-color);\n",
              "      border-top-color: var(--fill-color);\n",
              "    }\n",
              "    30% {\n",
              "      border-color: transparent;\n",
              "      border-left-color: var(--fill-color);\n",
              "      border-top-color: var(--fill-color);\n",
              "      border-right-color: var(--fill-color);\n",
              "    }\n",
              "    40% {\n",
              "      border-color: transparent;\n",
              "      border-right-color: var(--fill-color);\n",
              "      border-top-color: var(--fill-color);\n",
              "    }\n",
              "    60% {\n",
              "      border-color: transparent;\n",
              "      border-right-color: var(--fill-color);\n",
              "    }\n",
              "    80% {\n",
              "      border-color: transparent;\n",
              "      border-right-color: var(--fill-color);\n",
              "      border-bottom-color: var(--fill-color);\n",
              "    }\n",
              "    90% {\n",
              "      border-color: transparent;\n",
              "      border-bottom-color: var(--fill-color);\n",
              "    }\n",
              "  }\n",
              "</style>\n",
              "\n",
              "      <script>\n",
              "        async function quickchart(key) {\n",
              "          const quickchartButtonEl =\n",
              "            document.querySelector('#' + key + ' button');\n",
              "          quickchartButtonEl.disabled = true;  // To prevent multiple clicks.\n",
              "          quickchartButtonEl.classList.add('colab-df-spinner');\n",
              "          try {\n",
              "            const charts = await google.colab.kernel.invokeFunction(\n",
              "                'suggestCharts', [key], {});\n",
              "          } catch (error) {\n",
              "            console.error('Error during call to suggestCharts:', error);\n",
              "          }\n",
              "          quickchartButtonEl.classList.remove('colab-df-spinner');\n",
              "          quickchartButtonEl.classList.add('colab-df-quickchart-complete');\n",
              "        }\n",
              "        (() => {\n",
              "          let quickchartButtonEl =\n",
              "            document.querySelector('#df-1425a8b9-e5ff-455b-811b-a6a1aa9e89e0 button');\n",
              "          quickchartButtonEl.style.display =\n",
              "            google.colab.kernel.accessAllowed ? 'block' : 'none';\n",
              "        })();\n",
              "      </script>\n",
              "    </div>\n",
              "\n",
              "    </div>\n",
              "  </div>\n"
            ],
            "application/vnd.google.colaboratory.intrinsic+json": {
              "type": "dataframe",
              "variable_name": "ratings"
            }
          },
          "metadata": {},
          "execution_count": 6
        }
      ]
    },
    {
      "cell_type": "markdown",
      "source": [
        "## **Preprocessing**"
      ],
      "metadata": {
        "id": "c0AecFBMkVJ_"
      }
    },
    {
      "cell_type": "code",
      "source": [
        "# Check for NULLs\n",
        "print(\"\\nMissing values in ratings:\\n\", ratings.isnull().sum())\n",
        "print(\"\\nMissing values in movies:\\n\", movies.isnull().sum())"
      ],
      "metadata": {
        "id": "-78i3tmtkIAQ",
        "colab": {
          "base_uri": "https://localhost:8080/"
        },
        "outputId": "2912bc4c-bde1-425b-bf80-22d1d466633d"
      },
      "execution_count": 7,
      "outputs": [
        {
          "output_type": "stream",
          "name": "stdout",
          "text": [
            "\n",
            "Missing values in ratings:\n",
            " userId       0\n",
            "movieId      0\n",
            "rating       0\n",
            "timestamp    0\n",
            "dtype: int64\n",
            "\n",
            "Missing values in movies:\n",
            " movieId    0\n",
            "title      0\n",
            "genres     0\n",
            "dtype: int64\n"
          ]
        }
      ]
    },
    {
      "cell_type": "code",
      "source": [
        "# Count of each rating value\n",
        "rating_counts = ratings['rating'].value_counts().sort_index()\n",
        "\n",
        "print(\"Rating summary:\\n\")\n",
        "for rating, count in rating_counts.items():\n",
        "    print(f\"Rating {rating}: {count} ratings\")\n",
        "\n",
        "# Check for any 0 or negative ratings\n",
        "invalid_ratings = ratings[ratings['rating'] <= 0]\n",
        "print(f\"\\nNumber of invalid ratings (0 or negative): {len(invalid_ratings)}\")\n"
      ],
      "metadata": {
        "id": "Vyz__0x6jgr2",
        "colab": {
          "base_uri": "https://localhost:8080/"
        },
        "outputId": "fc05900f-048b-48fd-bdf3-352d5a75adb7"
      },
      "execution_count": 8,
      "outputs": [
        {
          "output_type": "stream",
          "name": "stdout",
          "text": [
            "Rating summary:\n",
            "\n",
            "Rating 0.5: 239125 ratings\n",
            "Rating 1.0: 680732 ratings\n",
            "Rating 1.5: 279252 ratings\n",
            "Rating 2.0: 1430997 ratings\n",
            "Rating 2.5: 883398 ratings\n",
            "Rating 3.0: 4291193 ratings\n",
            "Rating 3.5: 2200156 ratings\n",
            "Rating 4.0: 5561926 ratings\n",
            "Rating 4.5: 1534824 ratings\n",
            "Rating 5.0: 2898660 ratings\n",
            "\n",
            "Number of invalid ratings (0 or negative): 0\n"
          ]
        }
      ]
    },
    {
      "cell_type": "code",
      "source": [
        "duplicates = ratings.duplicated().sum()\n",
        "print(\"\\nDuplicate rating rows found:\", duplicates)"
      ],
      "metadata": {
        "id": "MD5K2eUqlq7W",
        "colab": {
          "base_uri": "https://localhost:8080/"
        },
        "outputId": "8e240194-2f8e-443b-ba97-5b8855a02ab7"
      },
      "execution_count": 9,
      "outputs": [
        {
          "output_type": "stream",
          "name": "stdout",
          "text": [
            "\n",
            "Duplicate rating rows found: 0\n"
          ]
        }
      ]
    },
    {
      "cell_type": "markdown",
      "source": [
        "## **✅Interaction Matrix**"
      ],
      "metadata": {
        "id": "viDrFMy322Iq"
      }
    },
    {
      "cell_type": "code",
      "source": [
        "# Drop unnecessary columns\n",
        "\n",
        "ratings.columns = ratings.columns.str.strip() # Strip any leading/trailing spaces from column names\n",
        "\n",
        "#drop timestamp\n",
        "ratings = ratings.drop(columns=['timestamp'])\n",
        "\n",
        "\n",
        "# Encode userId and movieId into continuous indices\n",
        "ratings['userId'] = ratings['userId'].astype('category')\n",
        "ratings['movieId'] = ratings['movieId'].astype('category')\n",
        "\n",
        "user_map = dict(enumerate(ratings['userId'].cat.categories))\n",
        "movie_map = dict(enumerate(ratings['movieId'].cat.categories))\n",
        "\n",
        "user_codes = ratings['userId'].cat.codes\n",
        "movie_codes = ratings['movieId'].cat.codes"
      ],
      "metadata": {
        "id": "YQsBnpxvmsv2"
      },
      "execution_count": 10,
      "outputs": []
    },
    {
      "cell_type": "code",
      "source": [
        "# Build sparse user-item interaction matrix\n",
        "interaction_matrix = coo_matrix(\n",
        "    (ratings['rating'].astype(float), (user_codes, movie_codes))\n",
        ")\n",
        "\n",
        "print(\"\\nInteraction matrix shape:\", interaction_matrix.shape)#prints- (r,c) of (users,movies)"
      ],
      "metadata": {
        "id": "GcQbQqd35M6O",
        "colab": {
          "base_uri": "https://localhost:8080/"
        },
        "outputId": "8b71a9bc-f977-4788-bfd1-6ed6e6073714"
      },
      "execution_count": 11,
      "outputs": [
        {
          "output_type": "stream",
          "name": "stdout",
          "text": [
            "\n",
            "Interaction matrix shape: (138493, 26744)\n"
          ]
        }
      ]
    },
    {
      "cell_type": "code",
      "source": [
        "#Heatmap for visualizing(shows: 0 if not rated, shows actual rating if Rated)\n",
        "from scipy.sparse import coo_matrix\n",
        "\n",
        "import seaborn as sns\n",
        "import matplotlib.pyplot as plt\n",
        "\n",
        "\n",
        "interaction_csr = interaction_matrix.tocsr()\n",
        "\n",
        "# Take a small slice and convert to dense array\n",
        "small_matrix = interaction_csr[:20, :20].toarray()\n",
        "\n",
        "plt.figure(figsize=(10,8))\n",
        "sns.heatmap(small_matrix, annot=True, cmap='YlGnBu', cbar=True)\n",
        "plt.xlabel('Movies')\n",
        "plt.ylabel('Users')\n",
        "plt.title('User-Item Ratings Heatmap (first 20 users & movies)')\n",
        "plt.show()\n",
        "\n"
      ],
      "metadata": {
        "id": "uOKnZ-Jk6D7C",
        "colab": {
          "base_uri": "https://localhost:8080/",
          "height": 554
        },
        "outputId": "e3904525-35d9-4bf4-a87b-cbfcacea390e"
      },
      "execution_count": 12,
      "outputs": [
        {
          "output_type": "display_data",
          "data": {
            "text/plain": [
              "<Figure size 1000x800 with 2 Axes>"
            ],
            "image/png": "[encoded data removed]"
          },
          "metadata": {}
        }
      ]
    },
    {
      "cell_type": "markdown",
      "source": [
        "## **Implement Collaborative Filtering**"
      ],
      "metadata": {
        "id": "Q-o-1-Rb8Bm8"
      }
    },
    {
      "cell_type": "code",
      "source": [
        "from sklearn.metrics.pairwise import cosine_similarity\n",
        "from scipy.sparse import coo_matrix\n",
        "\n",
        "# Filter to smaller subset\n",
        "filtered_users = ratings['userId'].cat.codes < 20000   # first 20k users\n",
        "filtered_movies = ratings['movieId'].cat.codes < 2000  # first 2k movies\n",
        "\n",
        "subset = ratings[filtered_users & filtered_movies]\n",
        "\n",
        "# Re-encode IDs for the subset\n",
        "subset['userId'] = subset['userId'].astype('category')\n",
        "subset['movieId'] = subset['movieId'].astype('category')\n",
        "\n",
        "user_codes = subset['userId'].cat.codes\n",
        "movie_codes = subset['movieId'].cat.codes"
      ],
      "metadata": {
        "colab": {
          "base_uri": "https://localhost:8080/"
        },
        "id": "gKSocRuv6jqR",
        "outputId": "2c79538e-a99a-4cda-9651-36e737fe7773"
      },
      "execution_count": 13,
      "outputs": [
        {
          "output_type": "stream",
          "name": "stderr",
          "text": [
            "/tmp/ipython-input-1621226095.py:11: SettingWithCopyWarning: \n",
            "A value is trying to be set on a copy of a slice from a DataFrame.\n",
            "Try using .loc[row_indexer,col_indexer] = value instead\n",
            "\n",
            "See the caveats in the documentation: https://pandas.pydata.org/pandas-docs/stable/user_guide/indexing.html#returning-a-view-versus-a-copy\n",
            "  subset['userId'] = subset['userId'].astype('category')\n",
            "/tmp/ipython-input-1621226095.py:12: SettingWithCopyWarning: \n",
            "A value is trying to be set on a copy of a slice from a DataFrame.\n",
            "Try using .loc[row_indexer,col_indexer] = value instead\n",
            "\n",
            "See the caveats in the documentation: https://pandas.pydata.org/pandas-docs/stable/user_guide/indexing.html#returning-a-view-versus-a-copy\n",
            "  subset['movieId'] = subset['movieId'].astype('category')\n"
          ]
        }
      ]
    },
    {
      "cell_type": "code",
      "source": [
        "# ---- Step 2: Build user-item interaction matrix ----\n",
        "interaction_matrix = coo_matrix(\n",
        "    (subset['rating'].astype(float), (user_codes, movie_codes))\n",
        ")\n",
        "print(\"Subset interaction matrix shape (users x movies):\", interaction_matrix.shape)"
      ],
      "metadata": {
        "colab": {
          "base_uri": "https://localhost:8080/"
        },
        "id": "a7H1YNU7myEk",
        "outputId": "64f38532-6dd4-40ba-e670-62e983d8a84b"
      },
      "execution_count": 14,
      "outputs": [
        {
          "output_type": "stream",
          "name": "stdout",
          "text": [
            "Subset interaction matrix shape (users x movies): (20000, 2000)\n"
          ]
        }
      ]
    },
    {
      "cell_type": "code",
      "source": [
        "#Convert to CSR format\n",
        "interaction_csr = interaction_matrix.tocsr()\n",
        "\n",
        "# Compute Similarities-\n",
        "\n",
        "item_similarity = cosine_similarity(interaction_csr.T) # Item-Item Collaborative Filtering\n",
        "print(\"Item-item similarity matrix shape:\", item_similarity.shape)\n",
        "\n",
        "user_similarity = cosine_similarity(interaction_csr) # User-User Collaborative Filtering\n",
        "print(\"User-user similarity matrix shape:\", user_similarity.shape)"
      ],
      "metadata": {
        "colab": {
          "base_uri": "https://localhost:8080/"
        },
        "id": "iQwYXCMzoP1u",
        "outputId": "dedae3ab-23cc-496f-bd07-bf294b6fb525"
      },
      "execution_count": 15,
      "outputs": [
        {
          "output_type": "stream",
          "name": "stdout",
          "text": [
            "Item-item similarity matrix shape: (2000, 2000)\n",
            "User-user similarity matrix shape: (20000, 20000)\n"
          ]
        }
      ]
    },
    {
      "cell_type": "markdown",
      "source": [
        "## **Explore Matrix Factorization:**"
      ],
      "metadata": {
        "id": "inQe3pjDpWS5"
      }
    },
    {
      "cell_type": "code",
      "source": [
        "#Singular Value Decomposition (SVD)\n",
        "from numpy.linalg import svd\n",
        "\n",
        "# Convert subset user-item matrix to dense array\n",
        "user_item_matrix = subset.pivot(index='userId', columns='movieId', values='rating').fillna(0)\n",
        "print(\"User-item matrix shape:\", user_item_matrix.shape)"
      ],
      "metadata": {
        "colab": {
          "base_uri": "https://localhost:8080/"
        },
        "id": "UVg6qCVhocPL",
        "outputId": "4d4bcf51-f115-45eb-d0e4-37b3e81c099a"
      },
      "execution_count": 16,
      "outputs": [
        {
          "output_type": "stream",
          "name": "stdout",
          "text": [
            "User-item matrix shape: (19972, 1993)\n"
          ]
        }
      ]
    },
    {
      "cell_type": "code",
      "source": [
        "# Convert to numpy\n",
        "R = user_item_matrix.values\n",
        "\n",
        "# Perform SVD\n",
        "U, sigma, Vt = svd(R, full_matrices=False)\n",
        "\n",
        "# Keep top-k latent features\n",
        "k = 50  # you can adjust (trade-off between speed and accuracy)\n",
        "sigma_k = np.diag(sigma[:k])\n",
        "U_k = U[:, :k]\n",
        "Vt_k = Vt[:k, :]\n",
        "\n",
        "# Predicted ratings\n",
        "R_pred = np.dot(np.dot(U_k, sigma_k), Vt_k)\n",
        "R_pred_df = pd.DataFrame(R_pred, index=user_item_matrix.index, columns=user_item_matrix.columns)\n",
        "\n",
        "print(\"Predicted rating matrix shape:\", R_pred_df.shape)"
      ],
      "metadata": {
        "colab": {
          "base_uri": "https://localhost:8080/"
        },
        "id": "WwdLLVzUp1Jg",
        "outputId": "5b21f34a-8257-46d7-f878-7abf7dd5ad00"
      },
      "execution_count": 17,
      "outputs": [
        {
          "output_type": "stream",
          "name": "stdout",
          "text": [
            "Predicted rating matrix shape: (19972, 1993)\n"
          ]
        }
      ]
    },
    {
      "cell_type": "code",
      "source": [
        "#Recommendation Function using SVD\n",
        "def recommend_movies_svd(user_id, N=5):\n",
        "    \"\"\"\n",
        "    Recommend Top-N movies for a given user using SVD predictions.\n",
        "    \"\"\"\n",
        "    # Get predicted ratings for this user\n",
        "    user_ratings = R_pred_df.loc[user_id]\n",
        "\n",
        "    # Remove already rated movies\n",
        "    already_rated = user_item_matrix.loc[user_id][user_item_matrix.loc[user_id] > 0].index\n",
        "    recommendations = user_ratings.drop(already_rated)\n",
        "\n",
        "    # Get Top-N recommendations\n",
        "    top_movies = recommendations.sort_values(ascending=False).head(N).index\n",
        "    recommended_titles = movies[movies['movieId'].isin(top_movies)]['title'].tolist()\n",
        "\n",
        "    return recommended_titles"
      ],
      "metadata": {
        "id": "v9Yhq2tqqVhx"
      },
      "execution_count": 18,
      "outputs": []
    },
    {
      "cell_type": "code",
      "source": [
        "print(\"Example user IDs in user_item_matrix:\")\n",
        "print(user_item_matrix.index[:10])  # show first 10 IDs\n"
      ],
      "metadata": {
        "colab": {
          "base_uri": "https://localhost:8080/"
        },
        "id": "Z0p5nth-qaYX",
        "outputId": "5edd9685-d628-467e-8026-51a136ec23dc"
      },
      "execution_count": 19,
      "outputs": [
        {
          "output_type": "stream",
          "name": "stdout",
          "text": [
            "Example user IDs in user_item_matrix:\n",
            "CategoricalIndex([1, 2, 3, 4, 5, 6, 7, 8, 9, 10], categories=[1, 2, 3, 4, ..., 138490, 138491, 138492, 138493], ordered=False, dtype='category', name='userId')\n"
          ]
        }
      ]
    },
    {
      "cell_type": "code",
      "source": [
        "print(\"Top 5 recommendations for an user using SVD:\")\n",
        "print(recommend_movies_svd(user_id=10, N=5))\n",
        "\n",
        "\n",
        "print(\"Top 5 recommendations for another user using SVD:\")\n",
        "print(recommend_movies_svd(user_id=2, N=5))"
      ],
      "metadata": {
        "colab": {
          "base_uri": "https://localhost:8080/"
        },
        "id": "UlkjSEcUq67V",
        "outputId": "5bed91af-00e7-4b5b-bdd7-fa8a8d738580"
      },
      "execution_count": 20,
      "outputs": [
        {
          "output_type": "stream",
          "name": "stdout",
          "text": [
            "Top 5 recommendations for an user using SVD:\n",
            "[\"One Flew Over the Cuckoo's Nest (1975)\", 'Alien (1979)', 'Boot, Das (Boat, The) (1981)', 'Patton (1970)', 'Indiana Jones and the Last Crusade (1989)']\n",
            "Top 5 recommendations for another user using SVD:\n",
            "['Independence Day (a.k.a. ID4) (1996)', 'E.T. the Extra-Terrestrial (1982)', 'Aliens (1986)', 'Terminator, The (1984)', 'Fifth Element, The (1997)']\n"
          ]
        }
      ]
    },
    {
      "cell_type": "code",
      "source": [
        "import pickle\n",
        "\n",
        "# Shrink to 2000 users × 1000 movies\n",
        "small_R = R_pred_df.iloc[:2000, :1000]\n",
        "small_UI = user_item_matrix.iloc[:2000, :1000]\n",
        "\n",
        "pickle.dump(small_R, open(\"R_pred_df.pkl\", \"wb\"))\n",
        "pickle.dump(small_UI, open(\"user_item_matrix.pkl\", \"wb\"))\n",
        "\n",
        "# Also shrink movie metadata\n",
        "small_movies = movies[movies['movieId'].isin(small_R.columns)]\n",
        "small_movies.to_csv(\"movie.csv\", index=False)\n"
      ],
      "metadata": {
        "id": "nx2aRGBbk__x"
      },
      "execution_count": 52,
      "outputs": []
    },
    {
      "cell_type": "markdown",
      "source": [
        "### **Visualize Singular Values**\n",
        "***The scree plot of singular values shows that the first few latent factors capture most of the variance in the data, with values decreasing sharply before flattening out. This means that user–movie interactions can be represented efficiently using a small set of hidden features, such as genre preferences or movie popularity trends. Based on this observation, we retained the top 50 features (k=50) for matrix factorization, balancing accuracy and computational cost.***"
      ],
      "metadata": {
        "id": "kJTfIXh4skMG"
      }
    },
    {
      "cell_type": "code",
      "source": [
        "import matplotlib.pyplot as plt\n",
        "\n",
        "plt.figure(figsize=(8,5))\n",
        "plt.plot(sigma[:100], marker='o')\n",
        "plt.title(\"Top 100 Singular Values\")\n",
        "plt.xlabel(\"Latent Feature Index\")\n",
        "plt.ylabel(\"Singular Value Magnitude\")\n",
        "plt.show()\n"
      ],
      "metadata": {
        "colab": {
          "base_uri": "https://localhost:8080/",
          "height": 411
        },
        "id": "bp7o8cEPrSei",
        "outputId": "d4c9c309-4d6d-478d-dd1c-bb838b7e1a5b"
      },
      "execution_count": 21,
      "outputs": [
        {
          "output_type": "display_data",
          "data": {
            "text/plain": [
              "<Figure size 800x500 with 1 Axes>"
            ],
            "image/png": "[encoded data removed]"
          },
          "metadata": {}
        }
      ]
    },
    {
      "cell_type": "markdown",
      "source": [
        "### **Compare Original vs. Predicted**\n",
        "\n",
        "\n",
        " If predictions align with actuals, points lie closer to diagonal.\n",
        "\n",
        "\n"
      ],
      "metadata": {
        "id": "euOH2mS_tQdz"
      }
    },
    {
      "cell_type": "code",
      "source": [
        "user_idx = 10  # picked id = 10 user\n",
        "actual_ratings = user_item_matrix.iloc[user_idx]\n",
        "predicted_ratings = R_pred_df.iloc[user_idx]\n",
        "\n",
        "plt.figure(figsize=(10,5))\n",
        "plt.scatter(actual_ratings, predicted_ratings, alpha=0.5)\n",
        "plt.xlabel(\"Actual Ratings\")\n",
        "plt.ylabel(\"Predicted Ratings\")\n",
        "plt.title(f\"Actual vs Predicted Ratings for User {user_idx}\")\n",
        "plt.show()\n"
      ],
      "metadata": {
        "colab": {
          "base_uri": "https://localhost:8080/",
          "height": 346
        },
        "id": "QxFTnjPztVbf",
        "outputId": "5cc2a4a3-82a7-4adb-f73f-d742da3714d3"
      },
      "execution_count": 22,
      "outputs": [
        {
          "output_type": "display_data",
          "data": {
            "text/plain": [
              "<Figure size 1000x500 with 1 Axes>"
            ],
            "image/png": "[encoded data removed]"
          },
          "metadata": {}
        }
      ]
    },
    {
      "cell_type": "markdown",
      "source": [
        "## **Optional Enhancement:**\n",
        "Experiment with neural embeddings or deep learning-based approaches to\n",
        "improve recommendation quality."
      ],
      "metadata": {
        "id": "KwUpF27-vHha"
      }
    },
    {
      "cell_type": "code",
      "source": [
        "#Neural Collaborative Filtering (NCF)\n",
        "!pip install torch\n",
        "\n",
        "import torch\n",
        "import torch.nn as nn\n",
        "import torch.optim as optim\n",
        "from torch.utils.data import Dataset, DataLoader\n",
        "\n",
        "#Prepare data\n",
        "\n",
        "class RatingDataset(Dataset):\n",
        "    def __init__(self, ratings):\n",
        "        self.user_ids = torch.tensor(ratings['userId'].cat.codes.values, dtype=torch.long)\n",
        "        self.movie_ids = torch.tensor(ratings['movieId'].cat.codes.values, dtype=torch.long)\n",
        "        self.ratings = torch.tensor(ratings['rating'].values, dtype=torch.float32)\n",
        "\n",
        "    def __len__(self):\n",
        "        return len(self.ratings)\n",
        "\n",
        "    def __getitem__(self, idx):\n",
        "        return self.user_ids[idx], self.movie_ids[idx], self.ratings[idx]\n"
      ],
      "metadata": {
        "colab": {
          "base_uri": "https://localhost:8080/"
        },
        "collapsed": true,
        "id": "nQ10f9ituYY7",
        "outputId": "7a3bcd8f-3d71-4dd2-8dc3-327a8297dc09"
      },
      "execution_count": 23,
      "outputs": [
        {
          "output_type": "stream",
          "name": "stdout",
          "text": [
            "Requirement already satisfied: torch in /usr/local/lib/python3.12/dist-packages (2.8.0+cu126)\n",
            "Requirement already satisfied: filelock in /usr/local/lib/python3.12/dist-packages (from torch) (3.19.1)\n",
            "Requirement already satisfied: typing-extensions>=4.10.0 in /usr/local/lib/python3.12/dist-packages (from torch) (4.15.0)\n",
            "Requirement already satisfied: setuptools in /usr/local/lib/python3.12/dist-packages (from torch) (75.2.0)\n",
            "Requirement already satisfied: sympy>=1.13.3 in /usr/local/lib/python3.12/dist-packages (from torch) (1.13.3)\n",
            "Requirement already satisfied: networkx in /usr/local/lib/python3.12/dist-packages (from torch) (3.5)\n",
            "Requirement already satisfied: jinja2 in /usr/local/lib/python3.12/dist-packages (from torch) (3.1.6)\n",
            "Requirement already satisfied: fsspec in /usr/local/lib/python3.12/dist-packages (from torch) (2025.3.0)\n",
            "Requirement already satisfied: nvidia-cuda-nvrtc-cu12==12.6.77 in /usr/local/lib/python3.12/dist-packages (from torch) (12.6.77)\n",
            "Requirement already satisfied: nvidia-cuda-runtime-cu12==12.6.77 in /usr/local/lib/python3.12/dist-packages (from torch) (12.6.77)\n",
            "Requirement already satisfied: nvidia-cuda-cupti-cu12==12.6.80 in /usr/local/lib/python3.12/dist-packages (from torch) (12.6.80)\n",
            "Requirement already satisfied: nvidia-cudnn-cu12==9.10.2.21 in /usr/local/lib/python3.12/dist-packages (from torch) (9.10.2.21)\n",
            "Requirement already satisfied: nvidia-cublas-cu12==12.6.4.1 in /usr/local/lib/python3.12/dist-packages (from torch) (12.6.4.1)\n",
            "Requirement already satisfied: nvidia-cufft-cu12==11.3.0.4 in /usr/local/lib/python3.12/dist-packages (from torch) (11.3.0.4)\n",
            "Requirement already satisfied: nvidia-curand-cu12==10.3.7.77 in /usr/local/lib/python3.12/dist-packages (from torch) (10.3.7.77)\n",
            "Requirement already satisfied: nvidia-cusolver-cu12==11.7.1.2 in /usr/local/lib/python3.12/dist-packages (from torch) (11.7.1.2)\n",
            "Requirement already satisfied: nvidia-cusparse-cu12==12.5.4.2 in /usr/local/lib/python3.12/dist-packages (from torch) (12.5.4.2)\n",
            "Requirement already satisfied: nvidia-cusparselt-cu12==0.7.1 in /usr/local/lib/python3.12/dist-packages (from torch) (0.7.1)\n",
            "Requirement already satisfied: nvidia-nccl-cu12==2.27.3 in /usr/local/lib/python3.12/dist-packages (from torch) (2.27.3)\n",
            "Requirement already satisfied: nvidia-nvtx-cu12==12.6.77 in /usr/local/lib/python3.12/dist-packages (from torch) (12.6.77)\n",
            "Requirement already satisfied: nvidia-nvjitlink-cu12==12.6.85 in /usr/local/lib/python3.12/dist-packages (from torch) (12.6.85)\n",
            "Requirement already satisfied: nvidia-cufile-cu12==1.11.1.6 in /usr/local/lib/python3.12/dist-packages (from torch) (1.11.1.6)\n",
            "Requirement already satisfied: triton==3.4.0 in /usr/local/lib/python3.12/dist-packages (from torch) (3.4.0)\n",
            "Requirement already satisfied: mpmath<1.4,>=1.1.0 in /usr/local/lib/python3.12/dist-packages (from sympy>=1.13.3->torch) (1.3.0)\n",
            "Requirement already satisfied: MarkupSafe>=2.0 in /usr/local/lib/python3.12/dist-packages (from jinja2->torch) (3.0.3)\n"
          ]
        }
      ]
    },
    {
      "cell_type": "code",
      "source": [
        "# Small subset for demo\n",
        "sample_ratings = ratings.sample(50000, random_state=42)  # 50k ratings\n",
        "\n",
        "dataset = RatingDataset(sample_ratings)\n",
        "dataloader = DataLoader(dataset, batch_size=512, shuffle=True)\n",
        "\n",
        "n_users = sample_ratings['userId'].cat.categories.size\n",
        "n_movies = sample_ratings['movieId'].cat.categories.size"
      ],
      "metadata": {
        "id": "2Y6Lk2_sviBG"
      },
      "execution_count": 24,
      "outputs": []
    },
    {
      "cell_type": "code",
      "source": [
        "# Step 2: Define Neural Model\n",
        "class NeuralCF(nn.Module):\n",
        "    def __init__(self, n_users, n_movies, embedding_dim=32):\n",
        "        super().__init__()\n",
        "        self.user_embedding = nn.Embedding(n_users, embedding_dim)\n",
        "        self.movie_embedding = nn.Embedding(n_movies, embedding_dim)\n",
        "\n",
        "        # Feedforward layers\n",
        "        self.fc1 = nn.Linear(embedding_dim*2, 64)\n",
        "        self.fc2 = nn.Linear(64, 32)\n",
        "        self.fc3 = nn.Linear(32, 1)\n",
        "        self.relu = nn.ReLU()\n",
        "\n",
        "    def forward(self, user, movie):\n",
        "        u = self.user_embedding(user)\n",
        "        m = self.movie_embedding(movie)\n",
        "        x = torch.cat([u, m], dim=1)  # combine user and movie embeddings\n",
        "        x = self.relu(self.fc1(x))\n",
        "        x = self.relu(self.fc2(x))\n",
        "        x = self.fc3(x)\n",
        "        return x.squeeze()\n",
        "\n",
        "model = NeuralCF(n_users, n_movies)"
      ],
      "metadata": {
        "id": "zlUuuHD4vo8g"
      },
      "execution_count": 25,
      "outputs": []
    },
    {
      "cell_type": "code",
      "source": [
        "#Train Model with Early Stopping\n",
        "\n",
        "criterion = nn.MSELoss()\n",
        "optimizer = optim.Adam(model.parameters(), lr=0.001)\n",
        "\n",
        "epochs = 100            # maximum epochs\n",
        "patience = 3           # stop if no improvement for 3 epochs\n",
        "min_delta = 0.0001     # minimum change in loss to count as improvement\n",
        "\n",
        "best_loss = float(\"inf\")\n",
        "patience_counter = 0\n",
        "\n",
        "for epoch in range(epochs):\n",
        "    total_loss = 0\n",
        "    for user, movie, rating in dataloader:\n",
        "        optimizer.zero_grad()\n",
        "        predictions = model(user, movie)\n",
        "        loss = criterion(predictions, rating)\n",
        "        loss.backward()\n",
        "        optimizer.step()\n",
        "        total_loss += loss.item()\n",
        "\n",
        "    avg_loss = total_loss / len(dataloader)\n",
        "    print(f\"Epoch {epoch+1}/{epochs}, Loss: {avg_loss:.4f}\")\n",
        "\n",
        "    # Check for improvement\n",
        "    if best_loss - avg_loss > min_delta:\n",
        "        best_loss = avg_loss\n",
        "        patience_counter = 0\n",
        "    else:\n",
        "        patience_counter += 1\n",
        "\n",
        "    # Early stopping condition\n",
        "    if patience_counter >= patience:\n",
        "        print(f\"Early stopping at epoch {epoch+1}, loss has stabilized.\")\n",
        "        break\n"
      ],
      "metadata": {
        "colab": {
          "base_uri": "https://localhost:8080/"
        },
        "id": "oy6ZaO7jwN2s",
        "outputId": "49270d82-22c1-42ff-9ec2-17bb4a43e6c5"
      },
      "execution_count": 26,
      "outputs": [
        {
          "output_type": "stream",
          "name": "stdout",
          "text": [
            "Epoch 1/100, Loss: 4.7275\n",
            "Epoch 2/100, Loss: 1.1954\n",
            "Epoch 3/100, Loss: 1.1122\n",
            "Epoch 4/100, Loss: 1.0488\n",
            "Epoch 5/100, Loss: 0.9979\n",
            "Epoch 6/100, Loss: 0.9508\n",
            "Epoch 7/100, Loss: 0.9115\n",
            "Epoch 8/100, Loss: 0.8729\n",
            "Epoch 9/100, Loss: 0.8372\n",
            "Epoch 10/100, Loss: 0.8017\n",
            "Epoch 11/100, Loss: 0.7683\n",
            "Epoch 12/100, Loss: 0.7339\n",
            "Epoch 13/100, Loss: 0.6987\n",
            "Epoch 14/100, Loss: 0.6628\n",
            "Epoch 15/100, Loss: 0.6251\n",
            "Epoch 16/100, Loss: 0.5850\n",
            "Epoch 17/100, Loss: 0.5423\n",
            "Epoch 18/100, Loss: 0.4986\n",
            "Epoch 19/100, Loss: 0.4532\n",
            "Epoch 20/100, Loss: 0.4098\n",
            "Epoch 21/100, Loss: 0.3662\n",
            "Epoch 22/100, Loss: 0.3242\n",
            "Epoch 23/100, Loss: 0.2866\n",
            "Epoch 24/100, Loss: 0.2526\n",
            "Epoch 25/100, Loss: 0.2203\n",
            "Epoch 26/100, Loss: 0.1929\n",
            "Epoch 27/100, Loss: 0.1686\n",
            "Epoch 28/100, Loss: 0.1464\n",
            "Epoch 29/100, Loss: 0.1274\n",
            "Epoch 30/100, Loss: 0.1103\n",
            "Epoch 31/100, Loss: 0.0956\n",
            "Epoch 32/100, Loss: 0.0827\n",
            "Epoch 33/100, Loss: 0.0716\n",
            "Epoch 34/100, Loss: 0.0618\n",
            "Epoch 35/100, Loss: 0.0533\n",
            "Epoch 36/100, Loss: 0.0460\n",
            "Epoch 37/100, Loss: 0.0396\n",
            "Epoch 38/100, Loss: 0.0340\n",
            "Epoch 39/100, Loss: 0.0295\n",
            "Epoch 40/100, Loss: 0.0253\n",
            "Epoch 41/100, Loss: 0.0215\n",
            "Epoch 42/100, Loss: 0.0186\n",
            "Epoch 43/100, Loss: 0.0159\n",
            "Epoch 44/100, Loss: 0.0139\n",
            "Epoch 45/100, Loss: 0.0120\n",
            "Epoch 46/100, Loss: 0.0103\n",
            "Epoch 47/100, Loss: 0.0090\n",
            "Epoch 48/100, Loss: 0.0077\n",
            "Epoch 49/100, Loss: 0.0068\n",
            "Epoch 50/100, Loss: 0.0059\n",
            "Epoch 51/100, Loss: 0.0052\n",
            "Epoch 52/100, Loss: 0.0047\n",
            "Epoch 53/100, Loss: 0.0042\n",
            "Epoch 54/100, Loss: 0.0038\n",
            "Epoch 55/100, Loss: 0.0035\n",
            "Epoch 56/100, Loss: 0.0032\n",
            "Epoch 57/100, Loss: 0.0029\n",
            "Epoch 58/100, Loss: 0.0028\n",
            "Epoch 59/100, Loss: 0.0027\n",
            "Epoch 60/100, Loss: 0.0028\n",
            "Epoch 61/100, Loss: 0.0029\n",
            "Early stopping at epoch 61, loss has stabilized.\n"
          ]
        }
      ]
    },
    {
      "cell_type": "code",
      "source": [
        "def recommend_movies_nn(user_id, N=5):\n",
        "    # user_id must be original MovieLens ID\n",
        "    try:\n",
        "        user_code = sample_ratings['userId'].cat.categories.get_loc(user_id)\n",
        "    except KeyError:\n",
        "        return [f\"User {user_id} not found in this subset\"]\n",
        "\n",
        "    all_movie_codes = torch.arange(n_movies)\n",
        "    user_tensor = torch.tensor([user_code]*n_movies)\n",
        "\n",
        "    with torch.no_grad():\n",
        "        scores = model(user_tensor, all_movie_codes).numpy()\n",
        "\n",
        "    top_indices = scores.argsort()[-N:][::-1]\n",
        "    recommended_movie_ids = sample_ratings['movieId'].cat.categories[top_indices]\n",
        "    recommended_titles = movies[movies['movieId'].isin(recommended_movie_ids)]['title'].tolist()\n",
        "\n",
        "    return recommended_titles\n",
        "\n",
        "print(\"Top 5 Recommended movie for this user are:\",recommend_movies_nn(user_id=1, N=5))\n"
      ],
      "metadata": {
        "colab": {
          "base_uri": "https://localhost:8080/"
        },
        "id": "bgvMAejawy0s",
        "outputId": "58209d68-fa38-4418-8062-24e25515200f"
      },
      "execution_count": 28,
      "outputs": [
        {
          "output_type": "stream",
          "name": "stdout",
          "text": [
            "Top 5 Recommended movie for this user are: ['Me Too (Yo, también) (2009)', 'The Great Northfield Minnesota Raid (1972)', 'Big Bad Wolves (2013)', 'Reckoning, The (2014)', '1001 Nights (1990)']\n"
          ]
        }
      ]
    },
    {
      "cell_type": "code",
      "source": [],
      "metadata": {
        "id": "WT2CN6RCPtuF"
      },
      "execution_count": null,
      "outputs": []
    },
    {
      "cell_type": "markdown",
      "source": [
        "## **Evaluation Metrics:**\n",
        "Evaluate model performance using metrics like:\n",
        "\n",
        "---\n",
        "\n",
        "○ Precision@K\n",
        "○ Recall@K\n",
        "○ NDCG (Normalized Discounted Cumulative Gain)"
      ],
      "metadata": {
        "id": "94rESgvYPfGV"
      }
    },
    {
      "cell_type": "code",
      "source": [
        "# Evaluate Across Multiple Users\n",
        "def evaluate_model(R_pred_df, user_item_matrix, k=10, n_users_eval=100):\n",
        "    precision_list, recall_list, ndcg_list = [], [], []\n",
        "\n",
        "    # Pick a sample of users (to save time)\n",
        "    users_to_eval = user_item_matrix.index[:n_users_eval]\n",
        "\n",
        "    for user in users_to_eval:\n",
        "        actual_movies = list(user_item_matrix.loc[user][user_item_matrix.loc[user] > 0].index)\n",
        "\n",
        "        # Skip if no ratings\n",
        "        if len(actual_movies) == 0:\n",
        "            continue\n",
        "\n",
        "        predicted_movies = R_pred_df.loc[user].sort_values(ascending=False).index.tolist()\n",
        "\n",
        "        precision_list.append(precision_at_k(predicted_movies, actual_movies, k))\n",
        "        recall_list.append(recall_at_k(predicted_movies, actual_movies, k))\n",
        "        ndcg_list.append(ndcg_at_k(predicted_movies, actual_movies, k))\n",
        "\n",
        "    return {\n",
        "        \"Precision@K\": np.mean(precision_list),\n",
        "        \"Recall@K\": np.mean(recall_list),\n",
        "        \"NDCG@K\": np.mean(ndcg_list)\n",
        "    }\n",
        "\n",
        "# Example: Evaluate SVD predictions on 100 users\n",
        "results = evaluate_model(R_pred_df, user_item_matrix, k=10, n_users_eval=100)\n",
        "print(\"Average results on 100 users:\")\n",
        "print(results)\n"
      ],
      "metadata": {
        "colab": {
          "base_uri": "https://localhost:8080/"
        },
        "id": "wIAr1EH5TnNQ",
        "outputId": "a24a9c75-05a3-4dd6-bfad-479dbba57230"
      },
      "execution_count": 32,
      "outputs": [
        {
          "output_type": "stream",
          "name": "stdout",
          "text": [
            "Average results on 100 users:\n",
            "{'Precision@K': np.float64(0.8690000000000001), 'Recall@K': np.float64(0.2577302415758474), 'NDCG@K': np.float64(0.906148458310617)}\n"
          ]
        }
      ]
    },
    {
      "cell_type": "code",
      "source": [
        " #Collaborative Filtering Evaluation\n",
        "sample_user = user_item_matrix.index[3]\n",
        "print(\"Evaluating for user:\", sample_user)\n",
        "\n",
        "# Get user's ratings\n",
        "user_idx = list(user_item_matrix.index).index(sample_user)\n",
        "user_ratings = interaction_csr[user_idx].toarray().flatten()\n",
        "\n",
        "# Predict with item-based CF\n",
        "cf_scores = item_similarity.dot(user_ratings)\n",
        "cf_scores[user_ratings > 0] = -1  # remove already rated movies\n",
        "\n",
        "# Ranking from CF\n",
        "predicted_cf = np.argsort(cf_scores)[::-1]\n",
        "actual_cf = list(user_item_matrix.loc[sample_user][user_item_matrix.loc[sample_user] > 0].index)\n",
        "\n",
        "# Metrics\n",
        "print(\"\\nCF Metrics:\")\n",
        "print(\"Precision@10:\", precision_at_k(predicted_cf, actual_cf, k=10))\n",
        "print(\"Recall@10:\", recall_at_k(predicted_cf, actual_cf, k=10))\n",
        "print(\"NDCG@10:\", ndcg_at_k(predicted_cf, actual_cf, k=10))\n",
        "\n"
      ],
      "metadata": {
        "colab": {
          "base_uri": "https://localhost:8080/"
        },
        "id": "t0arj9ExPVcx",
        "outputId": "98869590-bcfd-492d-8617-cd8b49d73b00"
      },
      "execution_count": 38,
      "outputs": [
        {
          "output_type": "stream",
          "name": "stdout",
          "text": [
            "Evaluating for user: 4\n",
            "\n",
            "CF Metrics:\n",
            "Precision@10: 0.1\n",
            "Recall@10: 0.03571428571428571\n",
            "NDCG@10: 0.13886244387355454\n"
          ]
        }
      ]
    },
    {
      "cell_type": "code",
      "source": [
        "#Collaborative Filtering Evaluation\n",
        "sample_user = user_item_matrix.index[3]\n",
        "print(\"Evaluating for user:\", sample_user)\n",
        "# Predicted ranking from SVD\n",
        "predicted_svd = R_pred_df.loc[sample_user].sort_values(ascending=False).index.tolist()\n",
        "actual_svd = list(user_item_matrix.loc[sample_user][user_item_matrix.loc[sample_user] > 0].index)\n",
        "\n",
        "# Metrics\n",
        "print(\"\\nSVD Metrics:\")\n",
        "print(\"Precision@10:\", precision_at_k(predicted_svd, actual_svd, k=10))\n",
        "print(\"Recall@10:\", recall_at_k(predicted_svd, actual_svd, k=10))\n",
        "print(\"NDCG@10:\", ndcg_at_k(predicted_svd, actual_svd, k=10))\n",
        "\n"
      ],
      "metadata": {
        "colab": {
          "base_uri": "https://localhost:8080/"
        },
        "id": "Hjmm3uSvXdR8",
        "outputId": "ec3f1b53-b437-4a54-f4ec-f915af68a4e0"
      },
      "execution_count": 37,
      "outputs": [
        {
          "output_type": "stream",
          "name": "stdout",
          "text": [
            "Evaluating for user: 4\n",
            "\n",
            "SVD Metrics:\n",
            "Precision@10: 0.7\n",
            "Recall@10: 0.25\n",
            "NDCG@10: 0.7534494445524138\n"
          ]
        }
      ]
    },
    {
      "cell_type": "code",
      "source": [
        "import matplotlib.pyplot as plt\n",
        "import numpy as np\n",
        "\n",
        "# Results you got (for user 4 as example)\n",
        "cf_results = {\"Precision@K\": 0.10, \"Recall@K\": 0.0357, \"NDCG@K\": 0.139}\n",
        "svd_results = {\"Precision@K\": 0.70, \"Recall@K\": 0.25, \"NDCG@K\": 0.753}\n",
        "\n",
        "# Organize results\n",
        "models = [\"Collaborative Filtering\", \"SVD\"]\n",
        "metrics = list(cf_results.keys())\n",
        "\n",
        "results = [\n",
        "    [cf_results[m] for m in metrics],\n",
        "    [svd_results[m] for m in metrics]\n",
        "]\n",
        "\n",
        "# Convert to numpy for plotting\n",
        "results = np.array(results)\n",
        "\n",
        "# Plot\n",
        "x = np.arange(len(metrics))  # metric positions\n",
        "width = 0.35\n",
        "\n",
        "fig, ax = plt.subplots(figsize=(8,6))\n",
        "\n",
        "# Bars for CF and SVD\n",
        "rects1 = ax.bar(x - width/2, results[0], width, label=\"Collaborative Filtering\")\n",
        "rects2 = ax.bar(x + width/2, results[1], width, label=\"SVD\")\n",
        "\n",
        "# Formatting\n",
        "ax.set_ylabel(\"Scores\")\n",
        "ax.set_xlabel(\"Metrics\")\n",
        "ax.set_title(\"Comparison of CF vs SVD on Recommendation Quality\")\n",
        "ax.set_xticks(x)\n",
        "ax.set_xticklabels(metrics)\n",
        "ax.set_ylim(0,1.0)\n",
        "ax.legend()\n",
        "\n",
        "# Add bar labels\n",
        "for rects in [rects1, rects2]:\n",
        "    for rect in rects:\n",
        "        height = rect.get_height()\n",
        "        ax.annotate(f'{height:.2f}',\n",
        "                    xy=(rect.get_x() + rect.get_width() / 2, height),\n",
        "                    xytext=(0, 3),  # offset\n",
        "                    textcoords=\"offset points\",\n",
        "                    ha='center', va='bottom')\n",
        "\n",
        "plt.show()\n"
      ],
      "metadata": {
        "colab": {
          "base_uri": "https://localhost:8080/",
          "height": 484
        },
        "id": "-8lNwz-ibST2",
        "outputId": "3df20f59-c8bb-4bed-c6d7-efac03e1a388"
      },
      "execution_count": 46,
      "outputs": [
        {
          "output_type": "display_data",
          "data": {
            "text/plain": [
              "<Figure size 800x600 with 1 Axes>"
            ],
            "image/png": "[encoded data removed]"
          },
          "metadata": {}
        }
      ]
    }
  ]
}